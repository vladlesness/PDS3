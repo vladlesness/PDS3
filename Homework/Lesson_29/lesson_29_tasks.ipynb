{
 "cells": [
  {
   "cell_type": "markdown",
   "id": "89e7961b",
   "metadata": {},
   "source": [
    "### Задача 1"
   ]
  },
  {
   "cell_type": "markdown",
   "id": "5f83c8b7",
   "metadata": {},
   "source": [
    "|  x<sub>i-1</sub> - x<sub>i</sub>  |  0-24  |  24-48  |  48-72  |  72-96  |  96-120  |  120-144 |  144-168  |  168-192  |  192-216  |\n",
    "|  ---            | ---    | ---     | ---     | ---     | ---      | ---      | ---       | ---       | ---       |\n",
    "|  n<sub>i</sub>  |   1    |    2    |    4    |    6    |    12    |    16    |     6     |     2     |     1     |"
   ]
  },
  {
   "cell_type": "markdown",
   "id": "71b45738",
   "metadata": {},
   "source": [
    "Знайдемо середній частковий інтервал нашої вибірки."
   ]
  },
  {
   "cell_type": "markdown",
   "id": "38023ac7",
   "metadata": {},
   "source": [
    "|  x<sub>i</sub>  |  12  |  36   |  60   |  84   |  108   |   132  |   156   |   180   |  204   |\n",
    "|  ---            | ---  | ---   | ---   | ---   | ---    | ---    | ---     | ---     | ---    |\n",
    "|  n<sub>i</sub>  |   1  |   2   |   4   |   6   |   12   |   16   |    6    |    2    |    1   |"
   ]
  },
  {
   "cell_type": "markdown",
   "id": "17502192",
   "metadata": {},
   "source": [
    "H<sub>0</sub> - вибірка має нормальний розподіл ознаки генеральної сукупності\\\n",
    "H<sub>1</sub> - вибірка не має нормальний розподіл ознаки генеральної сукупності"
   ]
  },
  {
   "cell_type": "code",
   "execution_count": 9,
   "id": "54a2987f",
   "metadata": {},
   "outputs": [
    {
     "data": {
      "text/plain": [
       "114.72"
      ]
     },
     "execution_count": 9,
     "metadata": {},
     "output_type": "execute_result"
    }
   ],
   "source": [
    "n = 50\n",
    "x_aver = (12*1 + 36*2 + 60*4 + 84*6 + 108*12 + 132*16 + 156*6 + 180*2 + 204*1) / n\n",
    "D = ((12-x_aver)**2*1 + (36-x_aver)**2*2 + (60-x_aver)**2*4 + (84-x_aver)**2*6 + (108-x_aver)**2*12 + (132-x_aver)**2*16 + (156-x_aver)**2*6 + (180-x_aver)**2*2 + (204-x_aver)**2*1) / n\n",
    "sd = D ** .5\n",
    "x_aver"
   ]
  },
  {
   "cell_type": "code",
   "execution_count": 10,
   "id": "f4a2e735",
   "metadata": {},
   "outputs": [
    {
     "data": {
      "text/plain": [
       "38.11091182325608"
      ]
     },
     "execution_count": 10,
     "metadata": {},
     "output_type": "execute_result"
    }
   ],
   "source": [
    "sd"
   ]
  },
  {
   "cell_type": "markdown",
   "id": "75673b76",
   "metadata": {},
   "source": [
    "|  i  |  (Z<sub>i-1</sub>;Z<sub>i</sub>)  |  Ф(Z<sub>i-1</sub>)   |  Ф(Z<sub>i</sub>)   |  p<sub>i</sub>   |  <span style=\"text-decoration:overline\">n</span><sub>i</sub>=50p<sub>i</sub>   |\n",
    "|  ---            | ---  | ---   | ---   | ---   | ---    |\n",
    "|  1  |  -∞  ;  -2.38 |   -0.5  | -0.4913 | 0.0087 | 1 |\n",
    "|  2  | -2.38 ; -1.75 | -0.4913 | -0.4599 | 0.0314 | 2 |\n",
    "|  3  | -1.75 ; -1.12 | -0.4599 | -0.3686 | 0.0913 | 5 |\n",
    "|  4  | -1.12 ; -0.49 | -0.3686 | -0.1879 | 0.1807 | 9 |\n",
    "|  5  | -0.49 ; 0.14  | -0.1879 |  0.0557 | 0.2436 | 12 |\n",
    "|  6  | 0.14  ; 0.77  |  0.0557 |  0.2794 | 0.2237 | 11 |\n",
    "|  7  | 0.77  ; 1.40  |  0.2794 |  0.4192 | 0.1398 | 7 |\n",
    "|  8  | 1.40  ; 2.08  |  0.4192 |  0.4812 | 0.062  | 3 |\n",
    "|  9  | 2.08  ;  +∞   |  0.4812 |   0.5   | 0.0188 | 1 |"
   ]
  },
  {
   "cell_type": "code",
   "execution_count": 11,
   "id": "76f3fc36",
   "metadata": {},
   "outputs": [
    {
     "data": {
      "text/plain": [
       "3.948917748917749"
      ]
     },
     "execution_count": 11,
     "metadata": {},
     "output_type": "execute_result"
    }
   ],
   "source": [
    "k_emp = (1-1)**2 / 1 + (2-2)**2 / 2 + (4-5)**2 / 5 + (6-9)**2 / 9 + (12-12)**2 / 12 + (16-11)**2 / 11 + (6-7)**2 / 7 + (2-3)**2 / 3 + (1-1)**2 / 1\n",
    "k_emp"
   ]
  },
  {
   "cell_type": "code",
   "execution_count": 12,
   "id": "4840c897",
   "metadata": {},
   "outputs": [
    {
     "data": {
      "text/plain": [
       "6"
      ]
     },
     "execution_count": 12,
     "metadata": {},
     "output_type": "execute_result"
    }
   ],
   "source": [
    "r = 9 - 2 - 1\n",
    "r"
   ]
  },
  {
   "cell_type": "code",
   "execution_count": 13,
   "id": "acc76d45",
   "metadata": {},
   "outputs": [],
   "source": [
    "k_cr = 16.8"
   ]
  },
  {
   "cell_type": "code",
   "execution_count": 15,
   "id": "774a2131",
   "metadata": {},
   "outputs": [
    {
     "data": {
      "text/plain": [
       "False"
      ]
     },
     "execution_count": 15,
     "metadata": {},
     "output_type": "execute_result"
    }
   ],
   "source": [
    "k_emp > k_cr"
   ]
  },
  {
   "cell_type": "markdown",
   "id": "12e45cf7",
   "metadata": {},
   "source": [
    "K<sub>емп</sub> < K<sub>кр</sub>, тому ми приймаємо H<sub>0</sub> що вибірка має нормальний розподіл ознаки генеральної сукупності"
   ]
  },
  {
   "cell_type": "markdown",
   "id": "44c29cbb",
   "metadata": {},
   "source": [
    "### Задача 2"
   ]
  },
  {
   "cell_type": "markdown",
   "id": "e6535e84",
   "metadata": {},
   "source": [
    "Відомо що P(X>=3) = 0.4, M(X) = 2"
   ]
  },
  {
   "cell_type": "markdown",
   "id": "bdfdbfcb",
   "metadata": {},
   "source": [
    "Проміжок можливих значень рівномірно розподіленої випадкової величини є [a;b], тоді функція щільності розподілу має вигляд:\\\n",
    "f(x) = 0, якщо x < a\\\n",
    "f(x) = 1 / (b-a), якщо a < x <= b\\\n",
    "f(x) = 0, якщо x > b"
   ]
  },
  {
   "cell_type": "markdown",
   "id": "27d32c38",
   "metadata": {},
   "source": [
    "Формула математичного сподівання буде мати вигляд:\\\n",
    "M(X) = ∫<sup>b</sup><sub>a</sub> x / (b-a) dx"
   ]
  },
  {
   "cell_type": "markdown",
   "id": "79edac4e",
   "metadata": {},
   "source": [
    "Визначимо проміжок (а;b) зміни випадкової величини склавши систему рівнянь"
   ]
  },
  {
   "cell_type": "markdown",
   "id": "c250bb81",
   "metadata": {},
   "source": [
    "∫<sup>b</sup><sub>3</sub> 1 / (b-a) dx = 0.4\\\n",
    "∫<sup>b</sup><sub>a</sub> x / (b-a) dx = 2"
   ]
  },
  {
   "cell_type": "markdown",
   "id": "e8a9cfb0",
   "metadata": {},
   "source": [
    "x / (b-a) |<sup>b</sup><sub>3</sub> = 0.4\\\n",
    "x<sup>2</sup> / 2(b-a) |<sup>b</sup><sub>a</sub> = 2"
   ]
  },
  {
   "cell_type": "markdown",
   "id": "94d5d988",
   "metadata": {},
   "source": [
    "(b-3) / (b-a) = 0.4\\\n",
    "(b<sup>2</sup> - a<sup>2</sup>) / 2(b-a) = 2"
   ]
  },
  {
   "cell_type": "markdown",
   "id": "e304f6b0",
   "metadata": {},
   "source": [
    "(b-3) / (b-a) = 0.4\\\n",
    "(b+a) / 2 = 2"
   ]
  },
  {
   "cell_type": "markdown",
   "id": "89af18c1",
   "metadata": {},
   "source": [
    "0.6b + 0.4a = 3\\\n",
    "b = 4 - a"
   ]
  },
  {
   "cell_type": "markdown",
   "id": "57bc8950",
   "metadata": {},
   "source": [
    "a = -3\\\n",
    "b = 7"
   ]
  },
  {
   "cell_type": "markdown",
   "id": "52c459e7",
   "metadata": {},
   "source": [
    "Отже,\\\n",
    "f(x) = 0, якщо x < -3\\\n",
    "f(x) = 0.1, якщо -3 < x <= 7\\\n",
    "f(x) = 0, якщо x > 7"
   ]
  }
 ],
 "metadata": {
  "kernelspec": {
   "display_name": "Python 3 (ipykernel)",
   "language": "python",
   "name": "python3"
  },
  "language_info": {
   "codemirror_mode": {
    "name": "ipython",
    "version": 3
   },
   "file_extension": ".py",
   "mimetype": "text/x-python",
   "name": "python",
   "nbconvert_exporter": "python",
   "pygments_lexer": "ipython3",
   "version": "3.10.7"
  }
 },
 "nbformat": 4,
 "nbformat_minor": 5
}
