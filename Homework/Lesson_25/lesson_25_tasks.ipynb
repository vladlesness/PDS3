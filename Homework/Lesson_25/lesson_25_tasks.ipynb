{
 "cells": [
  {
   "cell_type": "markdown",
   "id": "1f30e3a0",
   "metadata": {},
   "source": [
    "### Задача 2"
   ]
  },
  {
   "cell_type": "code",
   "execution_count": 11,
   "id": "34e3b733",
   "metadata": {},
   "outputs": [
    {
     "data": {
      "text/plain": [
       "2.6999999999999997"
      ]
     },
     "execution_count": 11,
     "metadata": {},
     "output_type": "execute_result"
    }
   ],
   "source": [
    "m_x = 10*.1 + 5*.3 + 2*.2 + 1*.3 + (-5)*.1\n",
    "m_x"
   ]
  },
  {
   "cell_type": "code",
   "execution_count": 12,
   "id": "1f4fd215",
   "metadata": {},
   "outputs": [
    {
     "data": {
      "text/plain": [
       "4.000000000000001"
      ]
     },
     "execution_count": 12,
     "metadata": {},
     "output_type": "execute_result"
    }
   ],
   "source": [
    "m_y = 20*.1 + 10*.3 + 2*.2 + (-2)*.3 + (-8)*.1\n",
    "m_y"
   ]
  },
  {
   "cell_type": "code",
   "execution_count": 13,
   "id": "28a5de55",
   "metadata": {},
   "outputs": [
    {
     "data": {
      "text/plain": [
       "3.7161808352124095"
      ]
     },
     "execution_count": 13,
     "metadata": {},
     "output_type": "execute_result"
    }
   ],
   "source": [
    "sd_x = (10**2*.1 + 5**2*.3 + 2**2*.2 + 1**2*.3 + (-5)**2*.1 - m_x**2) ** .5\n",
    "sd_x"
   ]
  },
  {
   "cell_type": "code",
   "execution_count": 14,
   "id": "b89d21e9",
   "metadata": {},
   "outputs": [
    {
     "data": {
      "text/plain": [
       "7.899367063252599"
      ]
     },
     "execution_count": 14,
     "metadata": {},
     "output_type": "execute_result"
    }
   ],
   "source": [
    "sd_y = (20**2*.1 + 10**2*.3 + 2**2*.2 + (-2)**2*.3 + (-8)**2*.1 - m_y**2) ** .5\n",
    "sd_y"
   ]
  },
  {
   "cell_type": "code",
   "execution_count": 15,
   "id": "de73405b",
   "metadata": {},
   "outputs": [
    {
     "data": {
      "text/plain": [
       "10.86"
      ]
     },
     "execution_count": 15,
     "metadata": {},
     "output_type": "execute_result"
    }
   ],
   "source": [
    "m_xy = 20*10*.01 + 20*5*.03 + 20*2*.02 +20*1*.03 + 20*-5*.01 + 10*10*.03 + 10*5*.09 + 10*2*.06 + 10*1*.09 + 10*-5*.03 + 2*10*.02 + 2*5*.06 + 2*2*.04 + 2*1*.09 + 2*-5*.02 + -2*10*.03 + -2*5*.09 + -2*2*.06 + -2*1*.09 + -2*-5*.03 + -8*10*.01 + -8*5*.03 + -8*2*.02 + -8*1*.03 + -8*-5*.01\n",
    "m_xy"
   ]
  },
  {
   "cell_type": "code",
   "execution_count": 16,
   "id": "954a7e00",
   "metadata": {},
   "outputs": [
    {
     "data": {
      "text/plain": [
       "0.05999999999999872"
      ]
     },
     "execution_count": 16,
     "metadata": {},
     "output_type": "execute_result"
    }
   ],
   "source": [
    "cov_xy = m_xy - m_x * m_y\n",
    "cov_xy"
   ]
  },
  {
   "cell_type": "code",
   "execution_count": 17,
   "id": "d022e915",
   "metadata": {},
   "outputs": [
    {
     "data": {
      "text/plain": [
       "0.002043911636687936"
      ]
     },
     "execution_count": 17,
     "metadata": {},
     "output_type": "execute_result"
    }
   ],
   "source": [
    "r_xy = cov_xy / (sd_x * sd_y)\n",
    "r_xy"
   ]
  },
  {
   "cell_type": "markdown",
   "id": "10aeacca",
   "metadata": {},
   "source": [
    "### Задача 1"
   ]
  },
  {
   "cell_type": "markdown",
   "id": "21c03b00",
   "metadata": {},
   "source": [
    "|  Y \\ X  |   1   |   2   |   3   |  P(Y)  |\n",
    "|  ---    |  ---  |  ---  |  ---  |  ---   |\n",
    "|  -1     |  0.15 |  0.2  |  0.05 |  0.4   |\n",
    "|  1      |  0.25 |  0.18 |  0.17 |  0.6   |\n",
    "|  P(X)   |  0.4  |  0.38 |  0.22 |   1    |"
   ]
  },
  {
   "cell_type": "code",
   "execution_count": 18,
   "id": "9a9023dd",
   "metadata": {},
   "outputs": [],
   "source": [
    "m_x = 1*.4 + 2*.38 + 3*.22\n",
    "m_y = -1*.4 + 1*.6\n",
    "m_xy = -1*1*.15 + -1*2*.2 + -1*3*.05 + 1*1*.25 + 1*2*.18 + 1*3*.17\n",
    "\n",
    "sd_x = (1**2*.4 + 2**2*.38 + 3**2*.22 - m_x**2) ** .5\n",
    "sd_y = (-1**2*.4 + 1**2*.6 - m_y**2) ** .5\n",
    "\n",
    "cov_xy = m_xy - m_x * m_y\n",
    "r_xy = cov_xy / (sd_x * sd_y)"
   ]
  },
  {
   "cell_type": "code",
   "execution_count": 19,
   "id": "9a1f35e5",
   "metadata": {},
   "outputs": [
    {
     "data": {
      "text/plain": [
       "0.18263631759994226"
      ]
     },
     "execution_count": 19,
     "metadata": {},
     "output_type": "execute_result"
    }
   ],
   "source": [
    "r_xy"
   ]
  }
 ],
 "metadata": {
  "kernelspec": {
   "display_name": "Python 3 (ipykernel)",
   "language": "python",
   "name": "python3"
  },
  "language_info": {
   "codemirror_mode": {
    "name": "ipython",
    "version": 3
   },
   "file_extension": ".py",
   "mimetype": "text/x-python",
   "name": "python",
   "nbconvert_exporter": "python",
   "pygments_lexer": "ipython3",
   "version": "3.10.7"
  }
 },
 "nbformat": 4,
 "nbformat_minor": 5
}
