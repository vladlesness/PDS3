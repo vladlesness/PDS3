{
 "cells": [
  {
   "cell_type": "markdown",
   "id": "f98aba56",
   "metadata": {},
   "source": [
    "### Задача 1"
   ]
  },
  {
   "cell_type": "markdown",
   "id": "0b342aa5",
   "metadata": {},
   "source": [
    "A1, A2 - документ заповнений першим та другим економістом відповідно.\\\n",
    "B - навмання взятий із папки документ виявився з суттєвою похибкою."
   ]
  },
  {
   "cell_type": "code",
   "execution_count": 1,
   "id": "12988986",
   "metadata": {},
   "outputs": [],
   "source": [
    "p_a1, p_a2 = 0.4, 0.6\n",
    "p_b_a1, p_b_a2 = 0.1, 0.2"
   ]
  },
  {
   "cell_type": "markdown",
   "id": "c2b892e5",
   "metadata": {},
   "source": [
    "За повною ймовірністю що навмання взятий із папки документ виявився з суттєвою похибкою:"
   ]
  },
  {
   "cell_type": "code",
   "execution_count": 2,
   "id": "b98ebb96",
   "metadata": {},
   "outputs": [],
   "source": [
    "p_b = p_a1 * p_b_a1 + p_a2 * p_b_a2"
   ]
  },
  {
   "cell_type": "markdown",
   "id": "41edbafb",
   "metadata": {},
   "source": [
    "За формулою Баєса:"
   ]
  },
  {
   "cell_type": "code",
   "execution_count": 3,
   "id": "7c7c86b2",
   "metadata": {},
   "outputs": [
    {
     "data": {
      "text/plain": [
       "0.25000000000000006"
      ]
     },
     "execution_count": 3,
     "metadata": {},
     "output_type": "execute_result"
    }
   ],
   "source": [
    "p_a1_b = p_b_a1 * p_a1 / p_b\n",
    "p_a1_b"
   ]
  },
  {
   "cell_type": "markdown",
   "id": "8908090f",
   "metadata": {},
   "source": [
    "### Задача 2"
   ]
  },
  {
   "cell_type": "markdown",
   "id": "764cc4c2",
   "metadata": {},
   "source": [
    "Знайдемо математичне сподівання, дисперсія та стандартне відхилення"
   ]
  },
  {
   "cell_type": "code",
   "execution_count": 4,
   "id": "171cf71e",
   "metadata": {},
   "outputs": [],
   "source": [
    "m_x = 1000*.5 + 1500*.3 + 2000*.2\n",
    "m_y = 1000*.4 + 1500*.4 + 1750*.2"
   ]
  },
  {
   "cell_type": "code",
   "execution_count": 5,
   "id": "d06c3010",
   "metadata": {},
   "outputs": [],
   "source": [
    "d_x = 1000**2 * .5 + 1500**2 * .3 + 2000**2 * .2 - m_x**2\n",
    "d_y = 1000**2 * .4 + 1500**2 * .4 + 1750**2 * .2 - m_y**2"
   ]
  },
  {
   "cell_type": "code",
   "execution_count": 6,
   "id": "189fc411",
   "metadata": {},
   "outputs": [
    {
     "data": {
      "text/plain": [
       "390.51248379533274"
      ]
     },
     "execution_count": 6,
     "metadata": {},
     "output_type": "execute_result"
    }
   ],
   "source": [
    "sd_x = d_x**(1/2)\n",
    "sd_x"
   ]
  },
  {
   "cell_type": "code",
   "execution_count": 7,
   "id": "4cb3adcc",
   "metadata": {},
   "outputs": [
    {
     "data": {
      "text/plain": [
       "300.0"
      ]
     },
     "execution_count": 7,
     "metadata": {},
     "output_type": "execute_result"
    }
   ],
   "source": [
    "sd_y = d_y**(1/2)\n",
    "sd_y"
   ]
  },
  {
   "cell_type": "markdown",
   "id": "d53cf4ab",
   "metadata": {},
   "source": [
    "Стандартне відхилення товару Y менше а отже ступінь ризику щодо випуску та реалізації товару Y менший."
   ]
  }
 ],
 "metadata": {
  "kernelspec": {
   "display_name": "Python 3 (ipykernel)",
   "language": "python",
   "name": "python3"
  },
  "language_info": {
   "codemirror_mode": {
    "name": "ipython",
    "version": 3
   },
   "file_extension": ".py",
   "mimetype": "text/x-python",
   "name": "python",
   "nbconvert_exporter": "python",
   "pygments_lexer": "ipython3",
   "version": "3.10.7"
  }
 },
 "nbformat": 4,
 "nbformat_minor": 5
}
