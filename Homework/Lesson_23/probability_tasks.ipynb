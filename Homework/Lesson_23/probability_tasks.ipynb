{
 "cells": [
  {
   "cell_type": "markdown",
   "id": "4953dfa7",
   "metadata": {},
   "source": [
    "### Задача 2"
   ]
  },
  {
   "cell_type": "markdown",
   "id": "01f3aa95",
   "metadata": {},
   "source": [
    "`a)` A - спрацює перший сигналізатор, B - спрацює другий сигналізатор, A| - не спрацює перший сигналізатор, B| - не спрацює другий сигналізатор, C - спрацючає хоча б один сигналізатор"
   ]
  },
  {
   "cell_type": "markdown",
   "id": "7d3fed61",
   "metadata": {},
   "source": [
    "p(C) = p(A)p(B|) + p(A|)p(B) + p(A)p(B)"
   ]
  },
  {
   "cell_type": "code",
   "execution_count": 31,
   "id": "9bbb4b4d",
   "metadata": {},
   "outputs": [],
   "source": [
    "p_a, p_b = 0.95, 0.9\n",
    "p_a_n, p_b_n = 1 - p_a, 1 - p_b\n",
    "p_c = p_a * p_b_n + p_a_n * p_b + p_a * p_b"
   ]
  },
  {
   "cell_type": "code",
   "execution_count": 32,
   "id": "766c737d",
   "metadata": {},
   "outputs": [
    {
     "data": {
      "text/plain": [
       "0.995"
      ]
     },
     "execution_count": 32,
     "metadata": {},
     "output_type": "execute_result"
    }
   ],
   "source": [
    "p_c"
   ]
  },
  {
   "cell_type": "markdown",
   "id": "ba4dd179",
   "metadata": {},
   "source": [
    "`b)` D - спрацючає тільки один сигналізатор"
   ]
  },
  {
   "cell_type": "markdown",
   "id": "94d1ac45",
   "metadata": {},
   "source": [
    "p(D) = p(A)p(B|) + p(B)p(A|)"
   ]
  },
  {
   "cell_type": "code",
   "execution_count": 33,
   "id": "847f234c",
   "metadata": {},
   "outputs": [
    {
     "data": {
      "text/plain": [
       "0.14"
      ]
     },
     "execution_count": 33,
     "metadata": {},
     "output_type": "execute_result"
    }
   ],
   "source": [
    "p_an, p_bn = 1 - p_a, 1 - p_b\n",
    "p_d = p_a * p_bn + p_b * p_an\n",
    "p_d"
   ]
  },
  {
   "cell_type": "code",
   "execution_count": 34,
   "id": "8a674d0b",
   "metadata": {},
   "outputs": [],
   "source": [
    "from math import factorial"
   ]
  },
  {
   "cell_type": "markdown",
   "id": "58a91b0b",
   "metadata": {},
   "source": [
    "### Задача 1"
   ]
  },
  {
   "cell_type": "markdown",
   "id": "edaf03db",
   "metadata": {},
   "source": [
    "Для вирішення задачі скористаємося кобінаторикою.\n",
    "Для цього напишемо функцію формули комбінаторики."
   ]
  },
  {
   "cell_type": "markdown",
   "id": "60734d1e",
   "metadata": {},
   "source": [
    "![comb](comb.png)"
   ]
  },
  {
   "cell_type": "code",
   "execution_count": 35,
   "id": "ab75a1a1",
   "metadata": {},
   "outputs": [],
   "source": [
    "def comb(n, m):\n",
    "    return factorial(n) / (factorial(m) * factorial(n-m))"
   ]
  },
  {
   "cell_type": "markdown",
   "id": "17a0d6dc",
   "metadata": {},
   "source": [
    "Нехай подія A - це включення приладу при якому випадковим чином включаються три елементи з семи, а p(A) вірогідність що з цих трьох елементів два будуть не зношені.\\\n",
    "Формула нашої вірогідності буде наступна:"
   ]
  },
  {
   "cell_type": "code",
   "execution_count": 36,
   "id": "5d5921bc",
   "metadata": {},
   "outputs": [],
   "source": [
    "p_a = comb(4, 2) * comb(3, 1) / comb(7, 3)"
   ]
  },
  {
   "cell_type": "code",
   "execution_count": 37,
   "id": "5833236b",
   "metadata": {},
   "outputs": [
    {
     "data": {
      "text/plain": [
       "0.5142857142857142"
      ]
     },
     "execution_count": 37,
     "metadata": {},
     "output_type": "execute_result"
    }
   ],
   "source": [
    "p_a"
   ]
  },
  {
   "cell_type": "markdown",
   "id": "e42f2b45",
   "metadata": {},
   "source": [
    "### Задача 3"
   ]
  },
  {
   "cell_type": "markdown",
   "id": "bf1c6a56",
   "metadata": {},
   "source": [
    "`a)` A - навмання взятий виріб вищого гатунку, В1 - частка виробів вишого гатунку першого верстату, В2 - частка виробів вишого гатунку другого верстату, С1 - загальна частка виробів першого верстату, С2 - загальна частка виробів другого верстату.\\\n",
    "Оскільки продуктивність першого верстату в два рази більша від другого, відсоток його виробництва будемо збільшувати в два рази, а відсоток другого залишиться без змін.\\\n",
    "Вірогідність того що навмання взятий виріб вишого гатунку p(A) буде загальна частка виробів вишого гатунку B1 та B2 поділена на загальку частку виробів C1 та C2.\\\n",
    "P(A) = (B1*2 + B2) / (C1*2 + C2)"
   ]
  },
  {
   "cell_type": "code",
   "execution_count": 38,
   "id": "77cd5132",
   "metadata": {},
   "outputs": [],
   "source": [
    "p_a = (0.6*2 + 0.84) / (2+1)"
   ]
  },
  {
   "cell_type": "code",
   "execution_count": 39,
   "id": "f5c4b5d6",
   "metadata": {},
   "outputs": [
    {
     "data": {
      "text/plain": [
       "0.68"
      ]
     },
     "execution_count": 39,
     "metadata": {},
     "output_type": "execute_result"
    }
   ],
   "source": [
    "p_a"
   ]
  },
  {
   "cell_type": "markdown",
   "id": "0be033f6",
   "metadata": {},
   "source": [
    "`b)` D - навмання взятий виріб виготовлений на першому верстаті.\\\n",
    "Вірогідність того що навмання взятий виріб виготовлений на першому верстаті p(D) буде частка виробів вишого гатунку першого верстату B1 поділена на загальку частку виробів вищого гатунку."
   ]
  },
  {
   "cell_type": "code",
   "execution_count": 40,
   "id": "ef4bb8ef",
   "metadata": {},
   "outputs": [],
   "source": [
    "p_d = 0.6*2 / (0.6*2 + 0.84)"
   ]
  },
  {
   "cell_type": "code",
   "execution_count": 41,
   "id": "2c7d7164",
   "metadata": {},
   "outputs": [
    {
     "data": {
      "text/plain": [
       "0.5882352941176471"
      ]
     },
     "execution_count": 41,
     "metadata": {},
     "output_type": "execute_result"
    }
   ],
   "source": [
    "p_d"
   ]
  }
 ],
 "metadata": {
  "kernelspec": {
   "display_name": "Python 3 (ipykernel)",
   "language": "python",
   "name": "python3"
  },
  "language_info": {
   "codemirror_mode": {
    "name": "ipython",
    "version": 3
   },
   "file_extension": ".py",
   "mimetype": "text/x-python",
   "name": "python",
   "nbconvert_exporter": "python",
   "pygments_lexer": "ipython3",
   "version": "3.10.7"
  }
 },
 "nbformat": 4,
 "nbformat_minor": 5
}
