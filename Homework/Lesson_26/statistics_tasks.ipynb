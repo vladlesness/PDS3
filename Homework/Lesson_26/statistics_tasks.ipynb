{
 "cells": [
  {
   "cell_type": "markdown",
   "id": "986b8b5b",
   "metadata": {},
   "source": [
    "### Задача 1"
   ]
  },
  {
   "cell_type": "markdown",
   "id": "60cee95d",
   "metadata": {},
   "source": [
    "Вирішимо задачу за інтегральною теоремою Муавра-Лапласа.\\\n",
    "Припустимо гарантійна майстерня обслуговує 100 телевізорів, тобто за теоремою у нас буде 100 незалежних випробувань."
   ]
  },
  {
   "cell_type": "markdown",
   "id": "e23d520e",
   "metadata": {},
   "source": [
    "![laplasa](integralna_Laplassa.png)"
   ]
  },
  {
   "cell_type": "code",
   "execution_count": 24,
   "id": "ff54a3d7",
   "metadata": {},
   "outputs": [],
   "source": [
    "k1 = 85\n",
    "k2 = 95\n",
    "n = 100\n",
    "p = 0.9\n",
    "q = 1 - p"
   ]
  },
  {
   "cell_type": "code",
   "execution_count": 25,
   "id": "d1110d1f",
   "metadata": {},
   "outputs": [
    {
     "data": {
      "text/plain": [
       "-1.666666666666667"
      ]
     },
     "execution_count": 25,
     "metadata": {},
     "output_type": "execute_result"
    }
   ],
   "source": [
    "x1 = (k1 - n*p) / (n*p*q) ** 0.5\n",
    "x1"
   ]
  },
  {
   "cell_type": "code",
   "execution_count": 26,
   "id": "0114b5d7",
   "metadata": {},
   "outputs": [
    {
     "data": {
      "text/plain": [
       "1.666666666666667"
      ]
     },
     "execution_count": 26,
     "metadata": {},
     "output_type": "execute_result"
    }
   ],
   "source": [
    "x2 = (k2 - n*p) / (n*p*q) ** 0.5\n",
    "x2"
   ]
  },
  {
   "cell_type": "markdown",
   "id": "3cbf9cfb",
   "metadata": {},
   "source": [
    "P100(85 <= k <= 95) = phi(x2) - phi(x1)"
   ]
  },
  {
   "cell_type": "code",
   "execution_count": 27,
   "id": "fd1cfc63",
   "metadata": {},
   "outputs": [],
   "source": [
    "phi_x1 = -0.4525\n",
    "phi_x2 = 0.4525\n",
    "P = phi_x2 - phi_x1"
   ]
  },
  {
   "cell_type": "code",
   "execution_count": 28,
   "id": "8d9c476e",
   "metadata": {},
   "outputs": [
    {
     "data": {
      "text/plain": [
       "0.905"
      ]
     },
     "execution_count": 28,
     "metadata": {},
     "output_type": "execute_result"
    }
   ],
   "source": [
    "P"
   ]
  },
  {
   "cell_type": "markdown",
   "id": "e68bf0a0",
   "metadata": {},
   "source": [
    "### Задача 2"
   ]
  },
  {
   "cell_type": "markdown",
   "id": "607717be",
   "metadata": {},
   "source": [
    "|  x<sub>i</sub>  |  6  |  7  |  8  |  9  |  10 |  11 |  12 |  13 |  14 |\n",
    "|  ---            | --- | --- | --- | --- | --- | --- | --- | --- | --- |\n",
    "|  n<sub>i</sub>  |  1  |  3  |  6  |  8  |  6  |  6  |  5  |  3  |  2  |\n",
    "|  w<sub>i</sub>  |0.025|0.075|0.15 | 0.2 | 0.15| 0.15|0.125|0.075| 0.05|"
   ]
  },
  {
   "cell_type": "code",
   "execution_count": 29,
   "id": "7ac0e02d",
   "metadata": {},
   "outputs": [
    {
     "data": {
      "image/png": "[encoded data removed]",
      "text/plain": [
       "<Figure size 640x480 with 1 Axes>"
      ]
     },
     "metadata": {},
     "output_type": "display_data"
    }
   ],
   "source": [
    "import matplotlib.pyplot as plt\n",
    "\n",
    "x = [6, 7, 8, 9, 10, 11, 12, 13, 14]\n",
    "y = [1, 3, 6, 8, 6, 6, 5, 4, 2]\n",
    "plt.plot(x, y)\n",
    "plt.xlabel('x')\n",
    "plt.ylabel('n')\n",
    "plt.show()"
   ]
  },
  {
   "cell_type": "markdown",
   "id": "722c1f9a",
   "metadata": {},
   "source": [
    "F(x) = 0, x < 6\\\n",
    "F(x) = 1/40 = 0.025, x <= 6\\\n",
    "F(x) = 4/40 = 0.1, x <= 7\\\n",
    "F(x) = 10/40 = 0.25, x <= 8\\\n",
    "F(x) = 18/40 = 0.45, x <= 9\\\n",
    "F(x) = 24/40 = 0.6, x <= 10\\\n",
    "F(x) = 30/40 = 0.75, x <= 11\\\n",
    "F(x) = 35/40 = 0.875, x <= 12\\\n",
    "F(x) = 38/40 = 0.95, x <= 13\\\n",
    "F(x) = 40/40 = 1, x <= 14"
   ]
  },
  {
   "cell_type": "markdown",
   "id": "8a1bdb2b",
   "metadata": {},
   "source": [
    "mode = 9, median = 10"
   ]
  }
 ],
 "metadata": {
  "kernelspec": {
   "display_name": "Python 3 (ipykernel)",
   "language": "python",
   "name": "python3"
  },
  "language_info": {
   "codemirror_mode": {
    "name": "ipython",
    "version": 3
   },
   "file_extension": ".py",
   "mimetype": "text/x-python",
   "name": "python",
   "nbconvert_exporter": "python",
   "pygments_lexer": "ipython3",
   "version": "3.10.7"
  }
 },
 "nbformat": 4,
 "nbformat_minor": 5
}
