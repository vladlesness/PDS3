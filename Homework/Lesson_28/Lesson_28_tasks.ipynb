{
 "cells": [
  {
   "cell_type": "markdown",
   "id": "c54086fa",
   "metadata": {},
   "source": [
    "### Задача 1"
   ]
  },
  {
   "cell_type": "markdown",
   "id": "5f83c8b7",
   "metadata": {},
   "source": [
    "|  x<sub>i</sub>  |  1  |  2  |  4  |  6  |  7  |\n",
    "|  ---            | --- | --- | --- | --- | --- |\n",
    "|  n<sub>i</sub>  |  2  |  3  |  10 |  3  |  2  |"
   ]
  },
  {
   "cell_type": "markdown",
   "id": "462c6d8c",
   "metadata": {},
   "source": [
    "Довірчі інтервали для оцінки середнього квадратичного відхилення:\\\n",
    "s(1-q) < ϭ < s(1+q), для q<1\\\n",
    "0 < ϭ < s(1+q), для q>1"
   ]
  },
  {
   "cell_type": "code",
   "execution_count": 17,
   "id": "d9e97c2f",
   "metadata": {},
   "outputs": [],
   "source": [
    "s = 1.79\n",
    "q = 0.37"
   ]
  },
  {
   "cell_type": "code",
   "execution_count": 18,
   "id": "3f7961cc",
   "metadata": {},
   "outputs": [
    {
     "data": {
      "text/plain": [
       "1.1277"
      ]
     },
     "execution_count": 18,
     "metadata": {},
     "output_type": "execute_result"
    }
   ],
   "source": [
    "interval1 = s * (1 - q)\n",
    "interval1"
   ]
  },
  {
   "cell_type": "code",
   "execution_count": 19,
   "id": "14e88249",
   "metadata": {},
   "outputs": [
    {
     "data": {
      "text/plain": [
       "2.4523"
      ]
     },
     "execution_count": 19,
     "metadata": {},
     "output_type": "execute_result"
    }
   ],
   "source": [
    "interval2 = s * (1 + q)\n",
    "interval2"
   ]
  },
  {
   "cell_type": "markdown",
   "id": "737662e8",
   "metadata": {},
   "source": [
    "Отже, довірчі інтервали середнього квадратичного відхилення будуть:\\\n",
    "1.1277 < ϭ < 2.4523"
   ]
  },
  {
   "cell_type": "markdown",
   "id": "c35fa6d3",
   "metadata": {},
   "source": [
    "### Задача 2"
   ]
  },
  {
   "cell_type": "code",
   "execution_count": 20,
   "id": "90c5e7ac",
   "metadata": {},
   "outputs": [],
   "source": [
    "t = 1.96\n",
    "n = 100\n",
    "m = 40"
   ]
  },
  {
   "cell_type": "markdown",
   "id": "d7144bbb",
   "metadata": {},
   "source": [
    "Для оцінки з надійністю 0.95 ймовірності настання події А в кожному із 100 незалежних випробувань, якщо подія А відбулась 40 раз, використаємо довірчий інтервал"
   ]
  },
  {
   "cell_type": "code",
   "execution_count": 21,
   "id": "08f142d4",
   "metadata": {},
   "outputs": [
    {
     "data": {
      "text/plain": [
       "0.3093997461136028"
      ]
     },
     "execution_count": 21,
     "metadata": {},
     "output_type": "execute_result"
    }
   ],
   "source": [
    "p1 = (m + t**2 / 2 - t * (m*(n-m) / n + t**2 / 4)** .5) / (t**2 + n)\n",
    "p1"
   ]
  },
  {
   "cell_type": "code",
   "execution_count": 22,
   "id": "0ca38d4a",
   "metadata": {},
   "outputs": [
    {
     "data": {
      "text/plain": [
       "0.4979992153815975"
      ]
     },
     "execution_count": 22,
     "metadata": {},
     "output_type": "execute_result"
    }
   ],
   "source": [
    "p2 = (m + t**2 / 2 + t * (m*(n-m) / n + t**2 / 4)** .5) / (t**2 + n)\n",
    "p2"
   ]
  },
  {
   "cell_type": "markdown",
   "id": "5ae8ecb0",
   "metadata": {},
   "source": [
    "Довірчий інтервал для настання події А становитиме:\\\n",
    "0.3094 < p < 0.498"
   ]
  },
  {
   "cell_type": "markdown",
   "id": "c3a75227",
   "metadata": {},
   "source": [
    "### Задача 3"
   ]
  },
  {
   "cell_type": "code",
   "execution_count": 23,
   "id": "eb8b7744",
   "metadata": {},
   "outputs": [],
   "source": [
    "t = 2.58\n",
    "est_accur = 0.6\n",
    "sd = 3"
   ]
  },
  {
   "cell_type": "markdown",
   "id": "a0382966",
   "metadata": {},
   "source": [
    "Об'єм вибірки, необхідний для інтервальної оцінки математичного сподівання вирахуємо за формулою:"
   ]
  },
  {
   "cell_type": "code",
   "execution_count": 24,
   "id": "bce44b49",
   "metadata": {},
   "outputs": [
    {
     "data": {
      "text/plain": [
       "166.41000000000003"
      ]
     },
     "execution_count": 24,
     "metadata": {},
     "output_type": "execute_result"
    }
   ],
   "source": [
    "n = t**2 * sd**2 / est_accur**2\n",
    "n"
   ]
  }
 ],
 "metadata": {
  "kernelspec": {
   "display_name": "Python 3 (ipykernel)",
   "language": "python",
   "name": "python3"
  },
  "language_info": {
   "codemirror_mode": {
    "name": "ipython",
    "version": 3
   },
   "file_extension": ".py",
   "mimetype": "text/x-python",
   "name": "python",
   "nbconvert_exporter": "python",
   "pygments_lexer": "ipython3",
   "version": "3.10.7"
  }
 },
 "nbformat": 4,
 "nbformat_minor": 5
}
