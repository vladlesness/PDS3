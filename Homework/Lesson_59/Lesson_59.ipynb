{
 "cells": [
  {
   "cell_type": "code",
   "execution_count": 1,
   "id": "2538ed4e",
   "metadata": {},
   "outputs": [],
   "source": [
    "import cv2\n",
    "import numpy as np"
   ]
  },
  {
   "cell_type": "code",
   "execution_count": 2,
   "id": "6390546c",
   "metadata": {},
   "outputs": [],
   "source": [
    "img = cv2.imread('Tiger.jpg')\n",
    "img = cv2.resize(img, (960, 540))"
   ]
  },
  {
   "cell_type": "code",
   "execution_count": 3,
   "id": "51156e8b",
   "metadata": {},
   "outputs": [],
   "source": [
    "gray_img = cv2.cvtColor(img, cv2.COLOR_BGR2GRAY)"
   ]
  },
  {
   "cell_type": "code",
   "execution_count": 4,
   "id": "ef3201c4",
   "metadata": {},
   "outputs": [],
   "source": [
    "kernel_x = np.array([[-1, 0, 1], [-2, 0, 2], [-1, 0, 1]])\n",
    "kernel_y = np.array([[-1, -2, -1], [0, 0, 0], [1, 2, 1]])"
   ]
  },
  {
   "cell_type": "code",
   "execution_count": 5,
   "id": "02f7a029",
   "metadata": {},
   "outputs": [],
   "source": [
    "sobel_x = cv2.filter2D(gray_img, -1, kernel_x)\n",
    "sobel_y = cv2.filter2D(gray_img, -1, kernel_y)\n",
    "sobel = sobel_x + sobel_y"
   ]
  },
  {
   "cell_type": "code",
   "execution_count": 6,
   "id": "c840be5f",
   "metadata": {},
   "outputs": [],
   "source": [
    "median = cv2.medianBlur(img, 5)"
   ]
  },
  {
   "cell_type": "code",
   "execution_count": 7,
   "id": "f9fcde0c",
   "metadata": {},
   "outputs": [],
   "source": [
    "cv2.imshow('original', img)\n",
    "cv2.imshow('sobel', sobel)\n",
    "cv2.imshow('median', median)\n",
    "cv2.waitKey(0)\n",
    "cv2.destroyAllWindows()"
   ]
  },
  {
   "cell_type": "code",
   "execution_count": 8,
   "id": "3527554b",
   "metadata": {},
   "outputs": [],
   "source": [
    "img2 = cv2.imread('plane_noise.png')"
   ]
  },
  {
   "cell_type": "code",
   "execution_count": 9,
   "id": "ae28759d",
   "metadata": {},
   "outputs": [],
   "source": [
    "sobel_x = cv2.filter2D(img2, -1, kernel_x)\n",
    "sobel_y = cv2.filter2D(img2, -1, kernel_y)\n",
    "sobel2 = sobel_x + sobel_y"
   ]
  },
  {
   "cell_type": "code",
   "execution_count": 10,
   "id": "32373058",
   "metadata": {},
   "outputs": [],
   "source": [
    "median2 = cv2.medianBlur(img2, 5)"
   ]
  },
  {
   "cell_type": "code",
   "execution_count": 11,
   "id": "99c925c4",
   "metadata": {},
   "outputs": [],
   "source": [
    "cv2.imshow('original', img2)\n",
    "cv2.imshow('sobel', sobel2)\n",
    "cv2.imshow('median', median2)\n",
    "cv2.waitKey(0)\n",
    "cv2.destroyAllWindows()"
   ]
  },
  {
   "cell_type": "markdown",
   "id": "e41778d4",
   "metadata": {},
   "source": [
    "### Фільтри мають різні призначення, Собеля призначений для виділення кордонів зображеня, медіанний для усунення шумів типу сіль і перець та збереженні країв"
   ]
  },
  {
   "cell_type": "code",
   "execution_count": 12,
   "id": "c58b7843",
   "metadata": {},
   "outputs": [],
   "source": [
    "sobel_x = cv2.filter2D(median2, -1, kernel_x)\n",
    "sobel_y = cv2.filter2D(median2, -1, kernel_y)\n",
    "sobel3 = sobel_x + sobel_y"
   ]
  },
  {
   "cell_type": "code",
   "execution_count": 14,
   "id": "7d04bfb5",
   "metadata": {},
   "outputs": [],
   "source": [
    "cv2.imshow('median', median2)\n",
    "cv2.imshow('sobel', sobel2)\n",
    "cv2.imshow('sobel_after_median', sobel3)\n",
    "cv2.waitKey(0)\n",
    "cv2.destroyAllWindows()"
   ]
  },
  {
   "cell_type": "markdown",
   "id": "7f3679dc",
   "metadata": {},
   "source": [
    "### Якщо ми хочемо примінити фільтр Собеля до зображення в якому багато шуму сіль і перець, фільтр відпрацює набагато краще якщо ми приберемо шуми медіанним фільтром"
   ]
  }
 ],
 "metadata": {
  "kernelspec": {
   "display_name": "Python 3 (ipykernel)",
   "language": "python",
   "name": "python3"
  },
  "language_info": {
   "codemirror_mode": {
    "name": "ipython",
    "version": 3
   },
   "file_extension": ".py",
   "mimetype": "text/x-python",
   "name": "python",
   "nbconvert_exporter": "python",
   "pygments_lexer": "ipython3",
   "version": "3.10.7"
  }
 },
 "nbformat": 4,
 "nbformat_minor": 5
}
