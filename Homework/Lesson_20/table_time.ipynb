{
 "cells": [
  {
   "cell_type": "markdown",
   "id": "1463e4be",
   "metadata": {},
   "source": [
    "|  year  |  rank  |  company                    |  revenue  |  profit  |\n",
    "| :---   | :---:  |  :---:                      |  :---:    |    ---:  |\n",
    "| 1955   |  229   |  Norton                     |  135.0    |  N.A.    |\n",
    "| 1955   |  291   |  Schlitz Brewing            |  100.0    |  N.A.    |\n",
    "| 1955   |  295   |  Pacific Vegerable Oil      |  97.9     |  N.A.    |\n",
    "| 1955   |  297   |  Liebmann Breweries         |  96.0     |  N.A.    |\n",
    "| 1955   |  353   |  Minneapolis-Moline         |  77.4     |  N.A.    |"
   ]
  },
  {
   "cell_type": "code",
   "execution_count": 3,
   "id": "bc355fc1",
   "metadata": {},
   "outputs": [],
   "source": [
    "from random import randint, uniform\n",
    "from random_words import RandomWords\n",
    "from numpy import mean\n",
    "from time import time"
   ]
  },
  {
   "cell_type": "code",
   "execution_count": 4,
   "id": "fc841288",
   "metadata": {},
   "outputs": [],
   "source": [
    "int_list = [randint(0, 1000) for i in range(5000)]\n",
    "float_list = [uniform(0.1, 100.0) for i in range(5000)]\n",
    "word = RandomWords()\n",
    "str_list = [word.random_word() for i in range(5000)]"
   ]
  },
  {
   "cell_type": "code",
   "execution_count": 5,
   "id": "524ecb71",
   "metadata": {},
   "outputs": [],
   "source": [
    "def heapify(nums, heap_size, root_index):\n",
    "    # Assume the index of the largest element is the root index\n",
    "    largest = root_index\n",
    "    left_child = (2 * root_index) + 1\n",
    "    right_child = (2 * root_index) + 2\n",
    "\n",
    "    # If the left child of the root is a valid index, and the element is greater\n",
    "    # than the current largest element, then update the largest element\n",
    "    if left_child < heap_size and nums[left_child] > nums[largest]:\n",
    "        largest = left_child\n",
    "\n",
    "    # Do the same for the right child of the root\n",
    "    if right_child < heap_size and nums[right_child] > nums[largest]:\n",
    "        largest = right_child\n",
    "\n",
    "    # If the largest element is no longer the root element, swap them\n",
    "    if largest != root_index:\n",
    "        nums[root_index], nums[largest] = nums[largest], nums[root_index]\n",
    "        # Heapify the new root element to ensure it's the largest\n",
    "        heapify(nums, heap_size, largest)"
   ]
  },
  {
   "cell_type": "code",
   "execution_count": 6,
   "id": "ecfe7e89",
   "metadata": {},
   "outputs": [],
   "source": [
    "def heap_sort(nums):\n",
    "    n = len(nums)\n",
    "\n",
    "    # Create a Max Heap from the list\n",
    "    # The 2nd argument of range means we stop at the element before -1 i.e.\n",
    "    # the first element of the list.\n",
    "    # The 3rd argument of range means we iterate backwards, reducing the count\n",
    "    # of i by 1\n",
    "    for i in range(n, -1, -1):\n",
    "        heapify(nums, n, i)\n",
    "\n",
    "    # Move the root of the max heap to the end of\n",
    "    for i in range(n - 1, 0, -1):\n",
    "        nums[i], nums[0] = nums[0], nums[i]\n",
    "        heapify(nums, i, 0)"
   ]
  },
  {
   "cell_type": "markdown",
   "id": "ef8f7198",
   "metadata": {},
   "source": [
    "### List of ints"
   ]
  },
  {
   "cell_type": "code",
   "execution_count": 16,
   "id": "69f7e7f0",
   "metadata": {},
   "outputs": [
    {
     "name": "stdout",
     "output_type": "stream",
     "text": [
      "39.2 ms ± 4.54 ms per loop (mean ± std. dev. of 7 runs, 10 loops each)\n"
     ]
    }
   ],
   "source": [
    "%timeit heap_sort(int_list)"
   ]
  },
  {
   "cell_type": "markdown",
   "id": "3101277b",
   "metadata": {},
   "source": [
    "### List of floats"
   ]
  },
  {
   "cell_type": "code",
   "execution_count": 12,
   "id": "3dca35ad",
   "metadata": {},
   "outputs": [
    {
     "name": "stdout",
     "output_type": "stream",
     "text": [
      "44.5 ms ± 9.64 ms per loop (mean ± std. dev. of 7 runs, 10 loops each)\n"
     ]
    }
   ],
   "source": [
    "%timeit heap_sort(float_list)"
   ]
  },
  {
   "cell_type": "markdown",
   "id": "237d1952",
   "metadata": {},
   "source": [
    "### List of words"
   ]
  },
  {
   "cell_type": "code",
   "execution_count": 13,
   "id": "f7c380bd",
   "metadata": {},
   "outputs": [
    {
     "name": "stdout",
     "output_type": "stream",
     "text": [
      "39.2 ms ± 731 µs per loop (mean ± std. dev. of 7 runs, 10 loops each)\n"
     ]
    }
   ],
   "source": [
    "%timeit heap_sort(str_list)"
   ]
  }
 ],
 "metadata": {
  "kernelspec": {
   "display_name": "Python 3 (ipykernel)",
   "language": "python",
   "name": "python3"
  },
  "language_info": {
   "codemirror_mode": {
    "name": "ipython",
    "version": 3
   },
   "file_extension": ".py",
   "mimetype": "text/x-python",
   "name": "python",
   "nbconvert_exporter": "python",
   "pygments_lexer": "ipython3",
   "version": "3.10.7"
  }
 },
 "nbformat": 4,
 "nbformat_minor": 5
}
