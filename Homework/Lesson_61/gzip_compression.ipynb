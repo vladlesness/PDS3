{
 "cells": [
  {
   "cell_type": "code",
   "execution_count": 1,
   "id": "3d5a7233",
   "metadata": {},
   "outputs": [],
   "source": [
    "import gzip"
   ]
  },
  {
   "cell_type": "code",
   "execution_count": 2,
   "id": "178b9d9c",
   "metadata": {},
   "outputs": [],
   "source": [
    "with open('anecdots.txt', 'rb') as f_in, gzip.open('anecdots.txt.gz', 'wb') as f_out:\n",
    "    f_out.writelines(f_in)"
   ]
  },
  {
   "cell_type": "code",
   "execution_count": 18,
   "id": "85164345",
   "metadata": {
    "scrolled": false
   },
   "outputs": [
    {
     "name": "stdout",
     "output_type": "stream",
     "text": [
      "Title: The Jewish Book of Anecdotes\r\n",
      "\n",
      "\r\n",
      "\n",
      "Page 1:\r\n",
      "\n",
      "A Jewish man goes to see his rabbi and asks, \"Rabbi, why do Jews always answer a question with a question?\" The rabbi replies, \"Why not?\"\r\n",
      "\n",
      "\r\n",
      "\n",
      "Page 2:\r\n",
      "\n",
      "A Jewish mother says to her son, \"You know, I'm not always right, but I'm never wrong.\"\r\n",
      "\n",
      "\r\n",
      "\n",
      "Page 3:\r\n",
      "\n",
      "A Jewish man goes to a doctor and says, \"Doctor, you have to help me. I think I'm shrinking!\" The doctor says, \"Now, now, you'll just have to be a little patient.\"\r\n",
      "\n",
      "\r\n",
      "\n",
      "Page 4:\r\n",
      "\n",
      "A Jewish man is walking down the street with his wife when they pass a jewelry store. The man says, \"Wow, that's a nice diamond necklace. Maybe someday you'll have one like it.\" The wife replies, \"I don't want a necklace like that. I'd rather have a fur coat.\" The man responds, \"Why do you need a fur coat? You don't have any animals to take care of!\"\r\n",
      "\n",
      "\r\n",
      "\n",
      "Page 5:\r\n",
      "\n",
      "A Jewish boy asks his mother, \"Mom, can I go out and play?\" The mother responds, \"Not until you finish your homework.\" The boy says, \"But I can't do my homework. I don't understand the material.\" The mother replies, \"Then you'll just have to use your imagination!\"\r\n",
      "\n",
      "\r\n",
      "\n",
      "Page 6:\r\n",
      "\n",
      "A Jewish man is playing poker with his friends when he looks at his cards and says, \"I'm playing like Moses – I'm leading with a pair of tens!\"\r\n",
      "\n",
      "\r\n",
      "\n",
      "Page 7:\r\n",
      "\n",
      "A Jewish man goes to a deli and orders a pastrami sandwich. When the waiter brings it to him, the man says, \"I wanted this on rye bread, not white bread.\" The waiter responds, \"You should have said something earlier.\" The man replies, \"I did. I said, 'I'll have what she's having.'\"\r\n",
      "\n",
      "\r\n",
      "\n",
      "Page 8:\r\n",
      "\n",
      "A Jewish man is walking down the street when he sees a store with a sign that says, \"Jewish souvenirs.\" The man walks in and says, \"Do you have any of those little yarmulkes that go on the end of a pencil?\" The store owner says, \"No, but I have some erasers that say 'Oy vey' on them.\"\r\n",
      "\n",
      "\r\n",
      "\n",
      "Page 9:\r\n",
      "\n",
      "A Jewish man goes to a restaurant and orders a bowl of matzoh ball soup. When the waiter brings it to him, the man takes one look and says, \"This is terrible. It's too hot!\" The waiter responds, \"Then blow on it.\" The man replies, \"I can't. I already paid for it.\"\r\n",
      "\n",
      "\r\n",
      "\n",
      "Page 10:\r\n",
      "\n",
      "A Jewish mother says to her daughter, \"I don't want you to marry that boy. He's a doctor. You should marry a lawyer.\" The daughter responds, \"But Mom, I love him.\" The mother replies, \"Love? You'll learn to love a lawyer.\"\r\n",
      "\n",
      "\r\n",
      "\n",
      "Page 11:\r\n",
      "\n",
      "A Jewish man goes to his rabbi and says, \"Rabbi, my son thinks he's a chicken.\" The rabbi says, \"Why don't you take him to a doctor?\" The man replies, \"We would, but we need the eggs.\"\r\n",
      "\n",
      "\r\n",
      "\n",
      "Page 12:\r\n",
      "\n",
      "A Jewish man goes to see his doctor and says, \"Doctor, I'm worried that I'm losing my memory.\" The doctor responds, \"How long have you had this problem?\" The man says, \"What problem?\"\n"
     ]
    }
   ],
   "source": [
    "with gzip.open('anecdots.txt.gz') as file:\n",
    "    for line in file:\n",
    "        print(line.decode('utf-8'))"
   ]
  }
 ],
 "metadata": {
  "kernelspec": {
   "display_name": "Python 3 (ipykernel)",
   "language": "python",
   "name": "python3"
  },
  "language_info": {
   "codemirror_mode": {
    "name": "ipython",
    "version": 3
   },
   "file_extension": ".py",
   "mimetype": "text/x-python",
   "name": "python",
   "nbconvert_exporter": "python",
   "pygments_lexer": "ipython3",
   "version": "3.10.7"
  }
 },
 "nbformat": 4,
 "nbformat_minor": 5
}
