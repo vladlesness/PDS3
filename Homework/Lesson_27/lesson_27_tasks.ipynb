{
 "cells": [
  {
   "cell_type": "markdown",
   "id": "f077c3fb",
   "metadata": {},
   "source": [
    "### Задача 1"
   ]
  },
  {
   "cell_type": "markdown",
   "id": "21e98b41",
   "metadata": {},
   "source": [
    "Припустимо ми хочемо вирішити ймовірність що 100 транзисторів з 10000 вийдуть з ладу"
   ]
  },
  {
   "cell_type": "code",
   "execution_count": 72,
   "id": "757c8b03",
   "metadata": {},
   "outputs": [
    {
     "data": {
      "text/plain": [
       "9893.14"
      ]
     },
     "execution_count": 72,
     "metadata": {},
     "output_type": "execute_result"
    }
   ],
   "source": [
    "m_x = 100 * .0007 + 9900 * .9993\n",
    "m_x"
   ]
  },
  {
   "cell_type": "code",
   "execution_count": 73,
   "id": "5efbce1a",
   "metadata": {},
   "outputs": [
    {
     "data": {
      "text/plain": [
       "259.19286332768576"
      ]
     },
     "execution_count": 73,
     "metadata": {},
     "output_type": "execute_result"
    }
   ],
   "source": [
    "sd_x = (100**2*.0007 + 9900**2*.9993 - m_x**2) ** .5\n",
    "sd_x"
   ]
  },
  {
   "cell_type": "markdown",
   "id": "6674c73b",
   "metadata": {},
   "source": [
    "За формулою Пуасона знайдемо цю ймовірність\n",
    "![puason](puason.png)"
   ]
  },
  {
   "cell_type": "code",
   "execution_count": 74,
   "id": "17b1efd9",
   "metadata": {},
   "outputs": [
    {
     "data": {
      "text/plain": [
       "3.1603775885545387e-77"
      ]
     },
     "execution_count": 74,
     "metadata": {},
     "output_type": "execute_result"
    }
   ],
   "source": [
    "from math import factorial, exp\n",
    "\n",
    "P = (10000 * .0007) ** 100 / (factorial(100) * exp(10000 * .0007))\n",
    "P"
   ]
  },
  {
   "cell_type": "markdown",
   "id": "136bde5d",
   "metadata": {},
   "source": [
    "### Задача 2"
   ]
  },
  {
   "cell_type": "markdown",
   "id": "0a9307da",
   "metadata": {},
   "source": [
    "Припустимо ми хочемо вирішити ймовірність що 100 з 10000 чоловіків жодного разу не були на рибалці"
   ]
  },
  {
   "cell_type": "code",
   "execution_count": 75,
   "id": "8badaa1a",
   "metadata": {},
   "outputs": [
    {
     "data": {
      "text/plain": [
       "9899.02"
      ]
     },
     "execution_count": 75,
     "metadata": {},
     "output_type": "execute_result"
    }
   ],
   "source": [
    "m_x = 100 * .0001 + 9900 * .9999\n",
    "m_x"
   ]
  },
  {
   "cell_type": "code",
   "execution_count": 76,
   "id": "9c73d940",
   "metadata": {},
   "outputs": [
    {
     "data": {
      "text/plain": [
       "9603.039599984884"
      ]
     },
     "execution_count": 76,
     "metadata": {},
     "output_type": "execute_result"
    }
   ],
   "source": [
    "d_x = 100**2*.0001 + 9900**2*.9999 - m_x**2\n",
    "d_x"
   ]
  },
  {
   "cell_type": "code",
   "execution_count": 77,
   "id": "8f158a63",
   "metadata": {},
   "outputs": [
    {
     "data": {
      "text/plain": [
       "97.99509987741675"
      ]
     },
     "execution_count": 77,
     "metadata": {},
     "output_type": "execute_result"
    }
   ],
   "source": [
    "sd_x = d_x ** .5\n",
    "sd_x"
   ]
  },
  {
   "cell_type": "markdown",
   "id": "e68954df",
   "metadata": {},
   "source": [
    "За формулою Пуасона знайдемо ймовірність"
   ]
  },
  {
   "cell_type": "code",
   "execution_count": 78,
   "id": "bff90f59",
   "metadata": {},
   "outputs": [
    {
     "data": {
      "text/plain": [
       "3.94186606005048e-159"
      ]
     },
     "execution_count": 78,
     "metadata": {},
     "output_type": "execute_result"
    }
   ],
   "source": [
    "P = (10000 * .0001) ** 100 / (factorial(100) * exp(10000 * .0001))\n",
    "P"
   ]
  },
  {
   "cell_type": "code",
   "execution_count": null,
   "id": "0bbb9277",
   "metadata": {},
   "outputs": [],
   "source": []
  }
 ],
 "metadata": {
  "kernelspec": {
   "display_name": "Python 3 (ipykernel)",
   "language": "python",
   "name": "python3"
  },
  "language_info": {
   "codemirror_mode": {
    "name": "ipython",
    "version": 3
   },
   "file_extension": ".py",
   "mimetype": "text/x-python",
   "name": "python",
   "nbconvert_exporter": "python",
   "pygments_lexer": "ipython3",
   "version": "3.10.7"
  }
 },
 "nbformat": 4,
 "nbformat_minor": 5
}
