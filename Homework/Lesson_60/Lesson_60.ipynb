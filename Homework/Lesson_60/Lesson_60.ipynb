{
 "cells": [
  {
   "cell_type": "code",
   "execution_count": 1,
   "id": "75b3b14e",
   "metadata": {},
   "outputs": [],
   "source": [
    "import cv2\n",
    "import numpy as np"
   ]
  },
  {
   "cell_type": "code",
   "execution_count": 2,
   "id": "816fe95c",
   "metadata": {},
   "outputs": [],
   "source": [
    "dogs = cv2.imread('dogs.jpg')\n",
    "topo = cv2.imread('topo.jpg')"
   ]
  },
  {
   "cell_type": "code",
   "execution_count": 3,
   "id": "038f22f1",
   "metadata": {},
   "outputs": [],
   "source": [
    "gray_dogs = cv2.cvtColor(dogs, cv2.COLOR_BGR2GRAY)\n",
    "gray_topo = cv2.cvtColor(topo, cv2.COLOR_BGR2GRAY)"
   ]
  },
  {
   "cell_type": "code",
   "execution_count": 4,
   "id": "03be429d",
   "metadata": {},
   "outputs": [],
   "source": [
    "sobel_kernel_x = np.array([[-1, 0, 1], [-2, 0, 2], [-1, 0, 1]])\n",
    "sobel_kernel_y = np.array([[-1, -2, -1], [0, 0, 0], [1, 2, 1]])"
   ]
  },
  {
   "cell_type": "code",
   "execution_count": 5,
   "id": "981ee753",
   "metadata": {},
   "outputs": [],
   "source": [
    "sobel_x = cv2.filter2D(gray_dogs, -1, sobel_kernel_x)\n",
    "sobel_y = cv2.filter2D(gray_dogs, -1, sobel_kernel_y)\n",
    "sobel_dogs = sobel_x + sobel_y\n",
    "\n",
    "sobel_x = cv2.filter2D(gray_topo, -1, sobel_kernel_x)\n",
    "sobel_y = cv2.filter2D(gray_topo, -1, sobel_kernel_y)\n",
    "sobel_topo = sobel_x + sobel_y"
   ]
  },
  {
   "cell_type": "code",
   "execution_count": 6,
   "id": "5318e4ee",
   "metadata": {},
   "outputs": [],
   "source": [
    "cv2.imshow('sobel_dogs', sobel_dogs)\n",
    "cv2.imshow('sobel_topo', sobel_topo)\n",
    "cv2.waitKey(0)\n",
    "cv2.destroyAllWindows()"
   ]
  },
  {
   "cell_type": "code",
   "execution_count": 7,
   "id": "5f4845be",
   "metadata": {},
   "outputs": [],
   "source": [
    "canny_dog = cv2.Canny(gray_dogs, 50, 150)\n",
    "canny_topo = cv2.Canny(gray_topo, 50, 150)"
   ]
  },
  {
   "cell_type": "code",
   "execution_count": 8,
   "id": "3d4345cb",
   "metadata": {},
   "outputs": [],
   "source": [
    "cv2.imshow('canny_dogs', canny_dog)\n",
    "cv2.imshow('canny_topo', canny_topo)\n",
    "cv2.waitKey(0)\n",
    "cv2.destroyAllWindows()"
   ]
  },
  {
   "cell_type": "code",
   "execution_count": 9,
   "id": "f8dac134",
   "metadata": {},
   "outputs": [],
   "source": [
    "roberts_kernel_x = np.array([[1, 0], [0, -1]])\n",
    "roberts_kernel_y = np.array([[0, 1], [-1, 0]])"
   ]
  },
  {
   "cell_type": "code",
   "execution_count": 10,
   "id": "b5d199ed",
   "metadata": {},
   "outputs": [],
   "source": [
    "roberts_x = cv2.filter2D(gray_dogs, -1, roberts_kernel_x)\n",
    "roberts_y = cv2.filter2D(gray_dogs, -1, roberts_kernel_y)\n",
    "roberts_dogs = roberts_x + roberts_y\n",
    "\n",
    "roberts_x = cv2.filter2D(gray_topo, -1, roberts_kernel_x)\n",
    "roberts_y = cv2.filter2D(gray_topo, -1, roberts_kernel_y)\n",
    "roberts_topo = roberts_x + roberts_y"
   ]
  },
  {
   "cell_type": "code",
   "execution_count": 11,
   "id": "58d9158c",
   "metadata": {},
   "outputs": [],
   "source": [
    "cv2.imshow('roberts_dogs', roberts_dogs)\n",
    "cv2.imshow('roberts_topo', roberts_topo)\n",
    "cv2.waitKey(0)\n",
    "cv2.destroyAllWindows()"
   ]
  },
  {
   "cell_type": "markdown",
   "id": "f3fc5b97",
   "metadata": {},
   "source": [
    "### Фільтри мають різний рівень диталізації, Собель має найбільшу деталізацію, потім йде Робертс, Кенні має найменшу деталізацію так як сканує зображення тільки у двох тонах, білий і чорний"
   ]
  }
 ],
 "metadata": {
  "kernelspec": {
   "display_name": "Python 3 (ipykernel)",
   "language": "python",
   "name": "python3"
  },
  "language_info": {
   "codemirror_mode": {
    "name": "ipython",
    "version": 3
   },
   "file_extension": ".py",
   "mimetype": "text/x-python",
   "name": "python",
   "nbconvert_exporter": "python",
   "pygments_lexer": "ipython3",
   "version": "3.10.7"
  }
 },
 "nbformat": 4,
 "nbformat_minor": 5
}
